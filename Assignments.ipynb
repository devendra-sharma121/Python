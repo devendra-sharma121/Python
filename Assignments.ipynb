{
 "cells": [
  {
   "cell_type": "code",
   "execution_count": null,
   "id": "93c0a603-6e0b-4f18-b67b-06fe692198b7",
   "metadata": {},
   "outputs": [],
   "source": [
    "#1. Write a Python program to find the second largest number in \n",
    "a list without using the sort() method."
   ]
  },
  {
   "cell_type": "code",
   "execution_count": 1,
   "id": "420cb4f0-4e6e-46ae-ba02-41e301569276",
   "metadata": {},
   "outputs": [
    {
     "name": "stdout",
     "output_type": "stream",
     "text": [
      "Second largest number is: 41\n"
     ]
    }
   ],
   "source": [
    "def find_second_largest(numbers):\n",
    "    if len(numbers) < 2:\n",
    "        return None  \n",
    "\n",
    "    largest = second_largest = float('-inf')\n",
    "\n",
    "    for num in numbers:\n",
    "        if num > largest:\n",
    "            second_largest = largest\n",
    "            largest = num\n",
    "        elif largest > num > second_largest:\n",
    "            second_largest = num\n",
    "\n",
    "    return second_largest if second_largest != float('-inf') else None\n",
    "\n",
    "# Example usage:\n",
    "my_list = [12, 45, 2, 41, 31, 10]\n",
    "result = find_second_largest(my_list)\n",
    "\n",
    "if result is not None:\n",
    "    print(\"Second largest number is:\", result)\n",
    "else:\n",
    "    print(\"List doesn't have enough unique elements.\")\n"
   ]
  },
  {
   "cell_type": "code",
   "execution_count": null,
   "id": "926945f2-1918-4999-9630-15ca729349f0",
   "metadata": {},
   "outputs": [],
   "source": [
    "#2.Remove duplicates from a list without using set() and return it in sorted order"
   ]
  },
  {
   "cell_type": "code",
   "execution_count": 3,
   "id": "6e71782f-d407-4e11-88c5-0a43610c2bc6",
   "metadata": {},
   "outputs": [
    {
     "name": "stdout",
     "output_type": "stream",
     "text": [
      "Sorted list without duplicates: [1, 2, 3, 4, 7, 8]\n"
     ]
    }
   ],
   "source": [
    "def remove_duplicates_and_sort(lst):\n",
    "    unique_elements = []\n",
    "    for item in lst:\n",
    "        if item not in unique_elements:\n",
    "            unique_elements.append(item)\n",
    "    n = len(unique_elements)\n",
    "    for i in range(n):\n",
    "        for j in range(0, n - i - 1):\n",
    "            if unique_elements[j] > unique_elements[j + 1]:\n",
    "                unique_elements[j], unique_elements[j + 1] = unique_elements[j + 1], unique_elements[j]\n",
    "\n",
    "    return unique_elements\n",
    "\n",
    "# Example usage\n",
    "my_list = [4, 2, 7, 4, 3, 2, 8, 1, 3]\n",
    "result = remove_duplicates_and_sort(my_list)\n",
    "print(\"Sorted list without duplicates:\", result)\n"
   ]
  },
  {
   "cell_type": "code",
   "execution_count": null,
   "id": "35943e51-2040-4c85-987d-5654f7df7385",
   "metadata": {},
   "outputs": [],
   "source": [
    "#3 Find the sum and average of a list of numbers.\n",
    "\n"
   ]
  },
  {
   "cell_type": "code",
   "execution_count": 4,
   "id": "776e2326-3a9c-4458-a0f1-40fbe022c428",
   "metadata": {},
   "outputs": [
    {
     "name": "stdout",
     "output_type": "stream",
     "text": [
      "Sum: 150\n",
      "Average: 30.0\n"
     ]
    }
   ],
   "source": [
    "numbers = [10, 20, 30, 40, 50]\n",
    "\n",
    "total = sum(numbers)\n",
    "average = total / len(numbers)\n",
    "\n",
    "print(\"Sum:\", total)\n",
    "print(\"Average:\", average)\n"
   ]
  },
  {
   "cell_type": "code",
   "execution_count": null,
   "id": "d9a9ab1b-236e-4502-96a2-98914ee98b36",
   "metadata": {},
   "outputs": [],
   "source": [
    "#4 Create a program to check if a number is prime. "
   ]
  },
  {
   "cell_type": "code",
   "execution_count": 5,
   "id": "98737f9e-6e5a-4e64-872b-503aded7b7c6",
   "metadata": {},
   "outputs": [
    {
     "name": "stdout",
     "output_type": "stream",
     "text": [
      "29 is a prime number\n"
     ]
    }
   ],
   "source": [
    "def is_prime(n):\n",
    "    if n <= 1:\n",
    "        return False\n",
    "    for i in range(2, int(n**0.5) + 1):\n",
    "        if n % i == 0:\n",
    "            return False  \n",
    "    return True\n",
    "\n",
    "# Example usage\n",
    "number = 29\n",
    "if is_prime(number):\n",
    "    print(number, \"is a prime number\")\n",
    "else:\n",
    "    print(number, \"is not a prime number\")\n"
   ]
  },
  {
   "cell_type": "code",
   "execution_count": null,
   "id": "eb84ce4d-8b43-414e-bd90-bf799b9683ea",
   "metadata": {},
   "outputs": [],
   "source": [
    "#5 Count the number of vowels, consonants, digits, and special \n",
    "characters in a given string."
   ]
  },
  {
   "cell_type": "code",
   "execution_count": 6,
   "id": "f8e67a73-aef1-48ec-81dd-ebc1c4312a0c",
   "metadata": {},
   "outputs": [
    {
     "name": "stdout",
     "output_type": "stream",
     "text": [
      "Vowels: 3\n",
      "Consonants: 7\n",
      "Digits: 3\n",
      "Special Characters: 3\n"
     ]
    }
   ],
   "source": [
    "def count_characters(s):\n",
    "    vowels = \"aeiouAEIOU\"\n",
    "    digits = \"0123456789\"\n",
    "    v_count = c_count = d_count = s_count = 0\n",
    "    for ch in s:\n",
    "        if ch in vowels:\n",
    "            v_count += 1\n",
    "        elif ch.isalpha():\n",
    "            c_count += 1\n",
    "        elif ch in digits:\n",
    "            d_count += 1\n",
    "        else:\n",
    "            s_count += 1\n",
    "\n",
    "    print(\"Vowels:\", v_count)\n",
    "    print(\"Consonants:\", c_count)\n",
    "    print(\"Digits:\", d_count)\n",
    "    print(\"Special Characters:\", s_count)\n",
    "\n",
    "# Example usage\n",
    "text = \"Hello World! 123\"\n",
    "count_characters(text)\n"
   ]
  },
  {
   "cell_type": "code",
   "execution_count": null,
   "id": "4292078b-4cc8-4c81-b5b2-c15945ef2f43",
   "metadata": {},
   "outputs": [],
   "source": [
    "#6 Print all even numbers between 1 and 100 using a for loop. "
   ]
  },
  {
   "cell_type": "code",
   "execution_count": 7,
   "id": "93555e49-6e46-46b7-9dfd-75559d1f1d46",
   "metadata": {},
   "outputs": [
    {
     "name": "stdout",
     "output_type": "stream",
     "text": [
      "2\n",
      "4\n",
      "6\n",
      "8\n",
      "10\n",
      "12\n",
      "14\n",
      "16\n",
      "18\n",
      "20\n",
      "22\n",
      "24\n",
      "26\n",
      "28\n",
      "30\n",
      "32\n",
      "34\n",
      "36\n",
      "38\n",
      "40\n",
      "42\n",
      "44\n",
      "46\n",
      "48\n",
      "50\n",
      "52\n",
      "54\n",
      "56\n",
      "58\n",
      "60\n",
      "62\n",
      "64\n",
      "66\n",
      "68\n",
      "70\n",
      "72\n",
      "74\n",
      "76\n",
      "78\n",
      "80\n",
      "82\n",
      "84\n",
      "86\n",
      "88\n",
      "90\n",
      "92\n",
      "94\n",
      "96\n",
      "98\n",
      "100\n"
     ]
    }
   ],
   "source": [
    "for number in range(2, 101, 2):\n",
    "    print(number)\n"
   ]
  },
  {
   "cell_type": "code",
   "execution_count": null,
   "id": "a0af9a44-8b76-48bb-a1bf-68c517bcce1a",
   "metadata": {},
   "outputs": [],
   "source": [
    "#7 Write a program to print the multiplication table of a number \n",
    "entered by the user."
   ]
  },
  {
   "cell_type": "code",
   "execution_count": 8,
   "id": "0e232688-4ed7-4e1d-b9a4-7a957a6ba812",
   "metadata": {},
   "outputs": [
    {
     "name": "stdin",
     "output_type": "stream",
     "text": [
      "Enter a number:  12\n"
     ]
    },
    {
     "name": "stdout",
     "output_type": "stream",
     "text": [
      "12 x 1 = 12\n",
      "12 x 2 = 24\n",
      "12 x 3 = 36\n",
      "12 x 4 = 48\n",
      "12 x 5 = 60\n",
      "12 x 6 = 72\n",
      "12 x 7 = 84\n",
      "12 x 8 = 96\n",
      "12 x 9 = 108\n",
      "12 x 10 = 120\n"
     ]
    }
   ],
   "source": [
    " num = int(input(\"Enter a number: \"))\n",
    "\n",
    "for i in range(1, 11):\n",
    "    print(f\"{num} x {i} = {num * i}\")\n"
   ]
  },
  {
   "cell_type": "code",
   "execution_count": null,
   "id": "f5140de7-b09a-4f6d-a6f6-b13ae5abe791",
   "metadata": {},
   "outputs": [],
   "source": [
    "#8 Create a list of numbers from 1 to 100 that are divisible by \n",
    "both 3 and 5. "
   ]
  },
  {
   "cell_type": "code",
   "execution_count": 9,
   "id": "19886aff-323b-4305-8cb5-0c379294b51b",
   "metadata": {},
   "outputs": [
    {
     "name": "stdout",
     "output_type": "stream",
     "text": [
      "Numbers divisible by both 3 and 5: [15, 30, 45, 60, 75, 90]\n"
     ]
    }
   ],
   "source": [
    "divisible_by_3_and_5 = []\n",
    "\n",
    "for i in range(1, 101):\n",
    "    if i % 3 == 0 and i % 5 == 0:\n",
    "        divisible_by_3_and_5.append(i)\n",
    "\n",
    "print(\"Numbers divisible by both 3 and 5:\", divisible_by_3_and_5)\n"
   ]
  },
  {
   "cell_type": "code",
   "execution_count": null,
   "id": "bd6912b7-cae6-4e23-bf86-6b7883ba9b25",
   "metadata": {},
   "outputs": [],
   "source": [
    "#9 Take a number input and print its reverse."
   ]
  },
  {
   "cell_type": "code",
   "execution_count": 10,
   "id": "10d9a10e-d408-4740-af31-c2225d61b638",
   "metadata": {},
   "outputs": [
    {
     "name": "stdin",
     "output_type": "stream",
     "text": [
      "Enter a number:  12\n"
     ]
    },
    {
     "name": "stdout",
     "output_type": "stream",
     "text": [
      "Reversed number: 21\n"
     ]
    }
   ],
   "source": [
    "num = int(input(\"Enter a number: \"))\n",
    "reverse = int(str(num)[::-1])\n",
    "print(\"Reversed number:\", reverse)\n"
   ]
  },
  {
   "cell_type": "code",
   "execution_count": null,
   "id": "56e3cdc4-06e4-4007-bdcf-c132de55373a",
   "metadata": {},
   "outputs": [],
   "source": [
    "#10 Count the frequency of each character in a string and \n",
    "store it in a dictionary. \n"
   ]
  },
  {
   "cell_type": "code",
   "execution_count": 11,
   "id": "e156ca5e-b489-4a1b-80ed-d0a381d51fbe",
   "metadata": {},
   "outputs": [
    {
     "name": "stdout",
     "output_type": "stream",
     "text": [
      "{'h': 1, 'e': 1, 'l': 3, 'o': 2, ' ': 1, 'w': 1, 'r': 1, 'd': 1}\n"
     ]
    }
   ],
   "source": [
    "text = \"hello world\"\n",
    "freq = {}\n",
    "\n",
    "for char in text:\n",
    "    if char in freq:\n",
    "        freq[char] += 1\n",
    "    else:\n",
    "        freq[char] = 1\n",
    "\n",
    "print(freq)\n"
   ]
  },
  {
   "cell_type": "code",
   "execution_count": null,
   "id": "a2b2139a-47cd-4ec9-b281-f3c2a19fcbf5",
   "metadata": {},
   "outputs": [],
   "source": [
    "#11. Write a Python program to generate the first n prime \n",
    "numbers."
   ]
  },
  {
   "cell_type": "code",
   "execution_count": 12,
   "id": "0d1db1f1-1272-4b22-9c81-f83c2af4b091",
   "metadata": {},
   "outputs": [
    {
     "name": "stdin",
     "output_type": "stream",
     "text": [
      "Enter how many prime numbers you want:  34\n"
     ]
    },
    {
     "name": "stdout",
     "output_type": "stream",
     "text": [
      "[2, 3, 5, 7, 11, 13, 17, 19, 23, 29, 31, 37, 41, 43, 47, 53, 59, 61, 67, 71, 73, 79, 83, 89, 97, 101, 103, 107, 109, 113, 127, 131, 137, 139]\n"
     ]
    }
   ],
   "source": [
    "def generate_primes(n):\n",
    "    primes = []\n",
    "    num = 2\n",
    "    while len(primes) < n:\n",
    "        for i in range(2, int(num ** 0.5) + 1):\n",
    "            if num % i == 0:\n",
    "                break\n",
    "        else:\n",
    "            primes.append(num)\n",
    "        num += 1\n",
    "    return primes\n",
    "# Example usage\n",
    "count = int(input(\"Enter how many prime numbers you want: \"))\n",
    "print(generate_primes(count))\n"
   ]
  },
  {
   "cell_type": "code",
   "execution_count": null,
   "id": "3f0359db-1ad7-4a01-911a-7c96fb5b9108",
   "metadata": {},
   "outputs": [],
   "source": [
    "#12 Check whether a number is a palindrome or not."
   ]
  },
  {
   "cell_type": "code",
   "execution_count": 13,
   "id": "32e06422-05f7-4910-ab6c-bb81146030a1",
   "metadata": {},
   "outputs": [
    {
     "name": "stdin",
     "output_type": "stream",
     "text": [
      "Enter a number:  56\n"
     ]
    },
    {
     "name": "stdout",
     "output_type": "stream",
     "text": [
      "Not a palindrome\n"
     ]
    }
   ],
   "source": [
    "num = int(input(\"Enter a number: \"))\n",
    "if str(num) == str(num)[::-1]:\n",
    "    print(\"Palindrome\")\n",
    "else:\n",
    "    print(\"Not a palindrome\")\n"
   ]
  },
  {
   "cell_type": "code",
   "execution_count": null,
   "id": "001eae6c-06fa-4719-8adb-dd69830d9e9d",
   "metadata": {},
   "outputs": [],
   "source": [
    "#14Count how many times a specific element appears in a \n",
    "list."
   ]
  },
  {
   "cell_type": "code",
   "execution_count": 14,
   "id": "587c23dd-8363-41da-9900-1802dfec9e18",
   "metadata": {},
   "outputs": [
    {
     "name": "stdout",
     "output_type": "stream",
     "text": [
      "2 appears 3 times\n"
     ]
    }
   ],
   "source": [
    "lst = [1, 2, 2, 3, 4, 2]\n",
    "target = 2\n",
    "count = lst.count(target)\n",
    "print(f\"{target} appears {count} times\")\n"
   ]
  },
  {
   "cell_type": "code",
   "execution_count": null,
   "id": "cb30635e-c247-472a-9219-44ee7b4888f5",
   "metadata": {},
   "outputs": [],
   "source": [
    "#15 Create a list of squares of even numbers between 1 and \n",
    "50."
   ]
  },
  {
   "cell_type": "code",
   "execution_count": 15,
   "id": "929f6b98-f412-4b96-bd22-ddcc427aa9be",
   "metadata": {},
   "outputs": [
    {
     "name": "stdout",
     "output_type": "stream",
     "text": [
      "[4, 16, 36, 64, 100, 144, 196, 256, 324, 400, 484, 576, 676, 784, 900, 1024, 1156, 1296, 1444, 1600, 1764, 1936, 2116, 2304, 2500]\n"
     ]
    }
   ],
   "source": [
    "squares = [x**2 for x in range(2, 51, 2)]\n",
    "print(squares)\n"
   ]
  },
  {
   "cell_type": "code",
   "execution_count": null,
   "id": "74ae7a41-d5c8-415a-94ae-386c727dbc3a",
   "metadata": {},
   "outputs": [],
   "source": [
    "#17 Accept a list and return a new list with only unique \n",
    "elements (preserve order)."
   ]
  },
  {
   "cell_type": "code",
   "execution_count": 16,
   "id": "4c69f4a9-eaed-41bf-a7c0-4b10c71b4ec1",
   "metadata": {},
   "outputs": [
    {
     "name": "stdout",
     "output_type": "stream",
     "text": [
      "[1, 2, 3, 4]\n"
     ]
    }
   ],
   "source": [
    "def unique_list(lst):\n",
    "    unique = []\n",
    "    for item in lst:\n",
    "        if item not in unique:\n",
    "            unique.append(item)\n",
    "    return unique\n",
    "\n",
    "print(unique_list([1, 2, 2, 3, 1, 4, 4]))\n"
   ]
  },
  {
   "cell_type": "code",
   "execution_count": null,
   "id": "79c64444-0af4-4cb9-99e4-180295c57552",
   "metadata": {},
   "outputs": [],
   "source": [
    "#18Write a function to check if a number is even or odd."
   ]
  },
  {
   "cell_type": "code",
   "execution_count": 17,
   "id": "28923a29-4701-44d9-8f0b-170abbffb69b",
   "metadata": {},
   "outputs": [
    {
     "name": "stdout",
     "output_type": "stream",
     "text": [
      "Odd\n"
     ]
    }
   ],
   "source": [
    "def check_even_odd(n):\n",
    "    return \"Even\" if n % 2 == 0 else \"Odd\"\n",
    "\n",
    "print(check_even_odd(7))\n"
   ]
  },
  {
   "cell_type": "code",
   "execution_count": null,
   "id": "9fe485c4-c26b-4d6b-84b5-f2227a763bfd",
   "metadata": {},
   "outputs": [],
   "source": [
    "#19 Create a function that takes a list of numbers and returns \n",
    "their cumulative sum"
   ]
  },
  {
   "cell_type": "code",
   "execution_count": 18,
   "id": "246a48aa-a9bf-4403-a627-827e03d55cac",
   "metadata": {},
   "outputs": [
    {
     "name": "stdout",
     "output_type": "stream",
     "text": [
      "[1, 3, 6, 10]\n"
     ]
    }
   ],
   "source": [
    "def cumulative_sum(lst):\n",
    "    result = []\n",
    "    total = 0\n",
    "    for num in lst:\n",
    "        total += num\n",
    "        result.append(total)\n",
    "    return result\n",
    "\n",
    "print(cumulative_sum([1, 2, 3, 4]))\n"
   ]
  },
  {
   "cell_type": "code",
   "execution_count": null,
   "id": "d004a4d0-a919-4d91-959b-73fe95d8fbe8",
   "metadata": {},
   "outputs": [],
   "source": [
    "#20 Write a recursive function to find the factorial of a number."
   ]
  },
  {
   "cell_type": "code",
   "execution_count": 19,
   "id": "a7674339-f94b-4233-aff8-8266d360a080",
   "metadata": {},
   "outputs": [
    {
     "name": "stdout",
     "output_type": "stream",
     "text": [
      "120\n"
     ]
    }
   ],
   "source": [
    "def factorial(n):\n",
    "    return 1 if n == 0 else n * factorial(n - 1)\n",
    "\n",
    "print(factorial(5))\n"
   ]
  },
  {
   "cell_type": "code",
   "execution_count": null,
   "id": "d121a369-d858-4c84-b9be-c957356c04dc",
   "metadata": {},
   "outputs": [],
   "source": [
    "#21 Write a function to print the Fibonacci series up to n terms. "
   ]
  },
  {
   "cell_type": "code",
   "execution_count": 20,
   "id": "85ccf42b-10fb-4724-bd8b-305cb47ae5fc",
   "metadata": {},
   "outputs": [
    {
     "name": "stdout",
     "output_type": "stream",
     "text": [
      "0 1 1 2 3 5 8 "
     ]
    }
   ],
   "source": [
    "def fibonacci(n):\n",
    "    a, b = 0, 1\n",
    "    for _ in range(n):\n",
    "        print(a, end=' ')\n",
    "        a, b = b, a + b\n",
    "\n",
    "fibonacci(7)\n"
   ]
  },
  {
   "cell_type": "code",
   "execution_count": null,
   "id": "6b28b145-7d3a-4555-8f77-fd0e19cfe3d1",
   "metadata": {},
   "outputs": [],
   "source": [
    "#22 Define a function that checks if a given string is a \n",
    "palindrome."
   ]
  },
  {
   "cell_type": "code",
   "execution_count": 21,
   "id": "1891a4f2-df77-4dc1-ab39-172b929d4afc",
   "metadata": {},
   "outputs": [
    {
     "name": "stdout",
     "output_type": "stream",
     "text": [
      "True\n"
     ]
    }
   ],
   "source": [
    "def is_palindrome(s):\n",
    "    return s == s[::-1]\n",
    "\n",
    "print(is_palindrome(\"radar\"))\n"
   ]
  },
  {
   "cell_type": "code",
   "execution_count": null,
   "id": "ee58004c-5d02-4a26-83fa-e32c621f5f45",
   "metadata": {},
   "outputs": [],
   "source": [
    "#23 Define a function that checks if a given string is a \n",
    "palindrome."
   ]
  },
  {
   "cell_type": "code",
   "execution_count": 22,
   "id": "f3c0c7ee-f3b6-435f-8311-c0fc0337bb09",
   "metadata": {},
   "outputs": [
    {
     "name": "stdout",
     "output_type": "stream",
     "text": [
      "(9, 2)\n"
     ]
    }
   ],
   "source": [
    "def find_max_min(lst):\n",
    "    return max(lst), min(lst)\n",
    "\n",
    "print(find_max_min([3, 7, 2, 9]))\n"
   ]
  },
  {
   "cell_type": "code",
   "execution_count": null,
   "id": "f6f60f6c-098b-40c5-8c93-b7d7db3a8239",
   "metadata": {},
   "outputs": [],
   "source": [
    "#24 Write a function to check whether a string is a pangram."
   ]
  },
  {
   "cell_type": "code",
   "execution_count": 23,
   "id": "a209ab2b-9666-4eae-9357-c3bfa89a0693",
   "metadata": {},
   "outputs": [
    {
     "name": "stdout",
     "output_type": "stream",
     "text": [
      "True\n"
     ]
    }
   ],
   "source": [
    "import string\n",
    "\n",
    "def is_pangram(s):\n",
    "    return set(string.ascii_lowercase).issubset(set(s.lower()))\n",
    "\n",
    "print(is_pangram(\"The quick brown fox jumps over the lazy dog\"))\n"
   ]
  },
  {
   "cell_type": "code",
   "execution_count": null,
   "id": "9d2a8797-8dc7-4a14-a387-a81848225d9b",
   "metadata": {},
   "outputs": [],
   "source": [
    "#25 Create a function that finds and returns all prime numbers \n",
    "in a given range."
   ]
  },
  {
   "cell_type": "code",
   "execution_count": 24,
   "id": "633b2df7-8216-4be3-b78c-c634455d82d6",
   "metadata": {},
   "outputs": [
    {
     "name": "stdout",
     "output_type": "stream",
     "text": [
      "[11, 13, 17, 19]\n"
     ]
    }
   ],
   "source": [
    "def primes_in_range(start, end):\n",
    "    primes = []\n",
    "    for num in range(start, end + 1):\n",
    "        if num > 1:\n",
    "            for i in range(2, int(num ** 0.5) + 1):\n",
    "                if num % i == 0:\n",
    "                    break\n",
    "            else:\n",
    "                primes.append(num)\n",
    "    return primes\n",
    "\n",
    "print(primes_in_range(10, 20))\n"
   ]
  },
  {
   "cell_type": "code",
   "execution_count": null,
   "id": "b8ebfa24-b035-4afd-9e3d-8495c0299d1c",
   "metadata": {},
   "outputs": [],
   "source": [
    "#26 Write a function to return the number of uppercase and \n",
    "lowercase letters in a string. "
   ]
  },
  {
   "cell_type": "code",
   "execution_count": 25,
   "id": "4e2c0ad6-2b5e-459c-ac46-cb281d9dcf0c",
   "metadata": {},
   "outputs": [
    {
     "name": "stdout",
     "output_type": "stream",
     "text": [
      "(2, 8)\n"
     ]
    }
   ],
   "source": [
    "def count_case(s):\n",
    "    upper = sum(1 for c in s if c.isupper())\n",
    "    lower = sum(1 for c in s if c.islower())\n",
    "    return upper, lower\n",
    "\n",
    "print(count_case(\"Hello World\"))\n"
   ]
  },
  {
   "cell_type": "code",
   "execution_count": null,
   "id": "38128f0c-ea42-4c97-91f6-4ed82bd5e112",
   "metadata": {},
   "outputs": [],
   "source": [
    "#27 Write a function to return the number of uppercase and \n",
    "lowercase letters in a string. "
   ]
  },
  {
   "cell_type": "code",
   "execution_count": 26,
   "id": "9ac4debb-1339-48b3-800e-bd40bc1eda8f",
   "metadata": {},
   "outputs": [
    {
     "name": "stdout",
     "output_type": "stream",
     "text": [
      "10\n"
     ]
    }
   ],
   "source": [
    "def sum_digits(n):\n",
    "    return sum(int(d) for d in str(n))\n",
    "\n",
    "print(sum_digits(1234))\n"
   ]
  },
  {
   "cell_type": "code",
   "execution_count": null,
   "id": "737b577e-da82-4e32-b8e7-a55cb5b8b423",
   "metadata": {},
   "outputs": [],
   "source": [
    " # 28 Write a function to count words in a sentence."
   ]
  },
  {
   "cell_type": "code",
   "execution_count": 27,
   "id": "5fe65e57-c999-4f06-9a96-6641dfc45b0b",
   "metadata": {},
   "outputs": [
    {
     "name": "stdout",
     "output_type": "stream",
     "text": [
      "5\n"
     ]
    }
   ],
   "source": [
    "def count_words(sentence):\n",
    "    return len(sentence.split())\n",
    "\n",
    "print(count_words(\"Python is fun to learn\"))\n"
   ]
  },
  {
   "cell_type": "code",
   "execution_count": null,
   "id": "ee4d8fff-e180-4691-94e6-170fe587ce68",
   "metadata": {},
   "outputs": [],
   "source": [
    "#29 Create a function to remove all punctuation from a string."
   ]
  },
  {
   "cell_type": "code",
   "execution_count": 28,
   "id": "707ba1d7-b573-4917-8991-b27a4938a6a7",
   "metadata": {},
   "outputs": [
    {
     "name": "stdout",
     "output_type": "stream",
     "text": [
      "Hello World\n"
     ]
    }
   ],
   "source": [
    "import string\n",
    "\n",
    "def remove_punctuation(s):\n",
    "    return ''.join(c for c in s if c not in string.punctuation)\n",
    "\n",
    "print(remove_punctuation(\"Hello, World!\"))\n"
   ]
  },
  {
   "cell_type": "code",
   "execution_count": null,
   "id": "6355f03b-fde7-47dc-8b6b-caf9bfe16566",
   "metadata": {},
   "outputs": [],
   "source": [
    "#30 Create a function that finds the GCD (greatest common \n",
    "divisor) of two numbers"
   ]
  },
  {
   "cell_type": "code",
   "execution_count": 29,
   "id": "b11e7772-4360-4ec5-90d7-1c21719fa942",
   "metadata": {},
   "outputs": [
    {
     "name": "stdout",
     "output_type": "stream",
     "text": [
      "6\n"
     ]
    }
   ],
   "source": [
    "def gcd(a, b):\n",
    "    while b:\n",
    "        a, b = b, a % b\n",
    "    return a\n",
    "\n",
    "print(gcd(12, 18))\n"
   ]
  },
  {
   "cell_type": "code",
   "execution_count": null,
   "id": "fbeb44dc-13ac-48ff-8ce7-58676dd48dfc",
   "metadata": {},
   "outputs": [],
   "source": [
    "#31 Write a function that takes a list and returns only those \n",
    "elements that appear more than once."
   ]
  },
  {
   "cell_type": "code",
   "execution_count": 30,
   "id": "075c6520-175b-422d-bcaf-e9febfcc0995",
   "metadata": {},
   "outputs": [
    {
     "name": "stdout",
     "output_type": "stream",
     "text": [
      "[2, 4]\n"
     ]
    }
   ],
   "source": [
    "def find_duplicates(lst):\n",
    "    return list({x for x in lst if lst.count(x) > 1})\n",
    "\n",
    "print(find_duplicates([1, 2, 2, 3, 4, 4, 5]))\n"
   ]
  },
  {
   "cell_type": "code",
   "execution_count": null,
   "id": "7db2d636-5403-483d-8c59-039d76774aa0",
   "metadata": {},
   "outputs": [],
   "source": [
    "#32 Create a function to return the largest of three numbers."
   ]
  },
  {
   "cell_type": "code",
   "execution_count": 31,
   "id": "1986244c-2080-48ac-ad47-480f6c1261e6",
   "metadata": {},
   "outputs": [
    {
     "name": "stdout",
     "output_type": "stream",
     "text": [
      "9\n"
     ]
    }
   ],
   "source": [
    "def largest_of_three(a, b, c):\n",
    "    return max(a, b, c)\n",
    "\n",
    "print(largest_of_three(5, 9, 3))\n"
   ]
  },
  {
   "cell_type": "code",
   "execution_count": null,
   "id": "9d71b719-9576-4000-a0af-4605ab4f94cf",
   "metadata": {},
   "outputs": [],
   "source": [
    "#33 Write a program to sort words in a sentence \n",
    "alphabetically."
   ]
  },
  {
   "cell_type": "code",
   "execution_count": 32,
   "id": "5e2341d5-4a70-4853-ad1a-47e0297d9b79",
   "metadata": {},
   "outputs": [
    {
     "name": "stdout",
     "output_type": "stream",
     "text": [
      "['python', 'to', 'welcome', 'world']\n"
     ]
    }
   ],
   "source": [
    "sentence = \"welcome to python world\"\n",
    "words = sentence.split()\n",
    "print(sorted(words))\n"
   ]
  },
  {
   "cell_type": "code",
   "execution_count": null,
   "id": "5fdf1b42-e9c8-460e-83cb-49ac1905c5d6",
   "metadata": {},
   "outputs": [],
   "source": [
    "#34 Concatenate two dictionaries and print the result."
   ]
  },
  {
   "cell_type": "code",
   "execution_count": 33,
   "id": "d37650b7-8173-493c-9f7b-24ad7ba38f2b",
   "metadata": {},
   "outputs": [
    {
     "name": "stdout",
     "output_type": "stream",
     "text": [
      "{'a': 1, 'b': 2, 'c': 3, 'd': 4}\n"
     ]
    }
   ],
   "source": [
    "d1 = {'a': 1, 'b': 2}\n",
    "d2 = {'c': 3, 'd': 4}\n",
    "d1.update(d2)\n",
    "print(d1)\n"
   ]
  },
  {
   "cell_type": "code",
   "execution_count": null,
   "id": "c289256d-e86b-43a6-9ebf-4cc0a64f0ce5",
   "metadata": {},
   "outputs": [],
   "source": [
    "#35 Count how many vowels are present in each word of a \n",
    "sentence"
   ]
  },
  {
   "cell_type": "code",
   "execution_count": 34,
   "id": "6001aee0-18e1-4cbe-ae9b-e68873ac9dac",
   "metadata": {},
   "outputs": [
    {
     "name": "stdout",
     "output_type": "stream",
     "text": [
      "hello: 2\n",
      "world: 1\n",
      "again: 3\n"
     ]
    }
   ],
   "source": [
    "sentence = \"hello world again\"\n",
    "vowels = \"aeiouAEIOU\"\n",
    "for word in sentence.split():\n",
    "    count = sum(1 for ch in word if ch in vowels)\n",
    "    print(f\"{word}: {count}\")\n"
   ]
  },
  {
   "cell_type": "code",
   "execution_count": null,
   "id": "040e70fe-dbaf-406c-b077-c17247d6f005",
   "metadata": {},
   "outputs": [],
   "source": [
    "#36  Accept a tuple and convert it into a list."
   ]
  },
  {
   "cell_type": "code",
   "execution_count": 35,
   "id": "f3356d75-ae67-4d5d-b3e0-88f872adcd14",
   "metadata": {},
   "outputs": [
    {
     "name": "stdout",
     "output_type": "stream",
     "text": [
      "[1, 2, 3]\n"
     ]
    }
   ],
   "source": [
    "t = (1, 2, 3)\n",
    "lst = list(t)\n",
    "print(lst)\n"
   ]
  },
  {
   "cell_type": "code",
   "execution_count": null,
   "id": "1bf6c0fb-0c61-495a-8469-fc17422d5cd3",
   "metadata": {},
   "outputs": [],
   "source": [
    "#37 Remove all whitespace from a given string using a \n",
    "function."
   ]
  },
  {
   "cell_type": "code",
   "execution_count": 36,
   "id": "e1f9cab4-851a-42e5-944c-794cc69bc09b",
   "metadata": {},
   "outputs": [
    {
     "name": "stdout",
     "output_type": "stream",
     "text": [
      "removeallwhitespaces\n"
     ]
    }
   ],
   "source": [
    "def remove_spaces(s):\n",
    "    return s.replace(\" \", \"\")\n",
    "print(remove_spaces(\"remove all white spaces\"))\n"
   ]
  },
  {
   "cell_type": "code",
   "execution_count": null,
   "id": "692d3fd8-c20b-428d-9ec1-28148d2f0716",
   "metadata": {},
   "outputs": [],
   "source": [
    "#38 Merge two lists into a dictionary using one as keys and the \n",
    "other as values."
   ]
  },
  {
   "cell_type": "code",
   "execution_count": 37,
   "id": "2fc331aa-2070-467a-ad83-e3ebc077f9bc",
   "metadata": {},
   "outputs": [
    {
     "name": "stdout",
     "output_type": "stream",
     "text": [
      "{'a': 1, 'b': 2, 'c': 3}\n"
     ]
    }
   ],
   "source": [
    "keys = ['a', 'b', 'c']\n",
    "values = [1, 2, 3]\n",
    "d = dict(zip(keys, values))\n",
    "print(d)\n"
   ]
  },
  {
   "cell_type": "code",
   "execution_count": null,
   "id": "05f0b69d-4ecc-4877-8a80-60c1e03b8a4a",
   "metadata": {},
   "outputs": [],
   "source": [
    "#39 Write a program to get the key with the maximum value in \n",
    "a dictionary."
   ]
  },
  {
   "cell_type": "code",
   "execution_count": 38,
   "id": "a2d530a7-2f82-4215-85bf-fe4475600bfd",
   "metadata": {},
   "outputs": [
    {
     "name": "stdout",
     "output_type": "stream",
     "text": [
      "b\n"
     ]
    }
   ],
   "source": [
    "d = {'a': 5, 'b': 9, 'c': 3}\n",
    "max_key = max(d, key=d.get)\n",
    "print(max_key)\n"
   ]
  },
  {
   "cell_type": "code",
   "execution_count": null,
   "id": "d5d9fec5-27ff-423a-ae02-e3de984a1931",
   "metadata": {},
   "outputs": [],
   "source": [
    "#40  Accept a string and print a dictionary with word \n",
    "frequencies."
   ]
  },
  {
   "cell_type": "code",
   "execution_count": 39,
   "id": "8c002964-446d-49b6-b6ba-150197b051a1",
   "metadata": {},
   "outputs": [
    {
     "name": "stdout",
     "output_type": "stream",
     "text": [
      "{'this': 2, 'is': 2, 'a': 1, 'test': 1}\n"
     ]
    }
   ],
   "source": [
    "text = \"this is a test this is\"\n",
    "freq = {}\n",
    "for word in text.split():\n",
    "    freq[word] = freq.get(word, 0) + 1\n",
    "print(freq)\n"
   ]
  },
  {
   "cell_type": "code",
   "execution_count": null,
   "id": "2b96083d-11cd-49b5-b91d-64bca8d66d22",
   "metadata": {},
   "outputs": [],
   "source": [
    "#41 Write a program to check if a key exists in a dictionary."
   ]
  },
  {
   "cell_type": "code",
   "execution_count": 40,
   "id": "e1576273-3ea8-457e-8d29-1dc2a724215e",
   "metadata": {},
   "outputs": [
    {
     "name": "stdout",
     "output_type": "stream",
     "text": [
      "True\n",
      "False\n"
     ]
    }
   ],
   "source": [
    "d = {'x': 1, 'y': 2}\n",
    "print('x' in d)  # True\n",
    "print('z' in d)  # False\n"
   ]
  },
  {
   "cell_type": "code",
   "execution_count": null,
   "id": "2447ef2e-520a-47b0-bad1-7c0788c9671e",
   "metadata": {},
   "outputs": [],
   "source": [
    "#42 Write a program to replace all the vowels in a string with \n",
    "'*'."
   ]
  },
  {
   "cell_type": "code",
   "execution_count": 41,
   "id": "f14360c7-33fe-4b45-9184-f09ea35b96b7",
   "metadata": {},
   "outputs": [
    {
     "name": "stdout",
     "output_type": "stream",
     "text": [
      "H*ll* W*rld\n"
     ]
    }
   ],
   "source": [
    "s = \"Hello World\"\n",
    "vowels = \"aeiouAEIOU\"\n",
    "result = ''.join('*' if ch in vowels else ch for ch in s)\n",
    "print(result)\n"
   ]
  },
  {
   "cell_type": "code",
   "execution_count": null,
   "id": "17e4a0f4-9466-471a-a977-44fc36c91a7b",
   "metadata": {},
   "outputs": [],
   "source": [
    " Write a Python program to read the contents of a file and \n",
    "display it. "
   ]
  },
  {
   "cell_type": "code",
   "execution_count": null,
   "id": "991dfa1e-fb39-4437-a564-151f8dd5caff",
   "metadata": {},
   "outputs": [],
   "source": []
  },
  {
   "cell_type": "code",
   "execution_count": null,
   "id": "d00d20e6-e503-40aa-bbf7-371d45f70bb5",
   "metadata": {},
   "outputs": [],
   "source": [
    " Count the number of words in a file. "
   ]
  },
  {
   "cell_type": "code",
   "execution_count": 43,
   "id": "6f0c8632-7b80-47af-99ac-86329121d93c",
   "metadata": {},
   "outputs": [
    {
     "ename": "FileNotFoundError",
     "evalue": "[Errno 2] No such file or directory: 'sample.txt'",
     "output_type": "error",
     "traceback": [
      "\u001b[1;31m---------------------------------------------------------------------------\u001b[0m",
      "\u001b[1;31mFileNotFoundError\u001b[0m                         Traceback (most recent call last)",
      "Cell \u001b[1;32mIn[43], line 1\u001b[0m\n\u001b[1;32m----> 1\u001b[0m \u001b[38;5;28;01mwith\u001b[39;00m \u001b[38;5;28mopen\u001b[39m(\u001b[38;5;124m\"\u001b[39m\u001b[38;5;124msample.txt\u001b[39m\u001b[38;5;124m\"\u001b[39m, \u001b[38;5;124m\"\u001b[39m\u001b[38;5;124mr\u001b[39m\u001b[38;5;124m\"\u001b[39m) \u001b[38;5;28;01mas\u001b[39;00m f:\n\u001b[0;32m      2\u001b[0m     words \u001b[38;5;241m=\u001b[39m f\u001b[38;5;241m.\u001b[39mread()\u001b[38;5;241m.\u001b[39msplit()\n\u001b[0;32m      3\u001b[0m     \u001b[38;5;28mprint\u001b[39m(\u001b[38;5;124m\"\u001b[39m\u001b[38;5;124mWord count:\u001b[39m\u001b[38;5;124m\"\u001b[39m, \u001b[38;5;28mlen\u001b[39m(words))\n",
      "File \u001b[1;32m~\\anaconda3\\Lib\\site-packages\\IPython\\core\\interactiveshell.py:324\u001b[0m, in \u001b[0;36m_modified_open\u001b[1;34m(file, *args, **kwargs)\u001b[0m\n\u001b[0;32m    317\u001b[0m \u001b[38;5;28;01mif\u001b[39;00m file \u001b[38;5;129;01min\u001b[39;00m {\u001b[38;5;241m0\u001b[39m, \u001b[38;5;241m1\u001b[39m, \u001b[38;5;241m2\u001b[39m}:\n\u001b[0;32m    318\u001b[0m     \u001b[38;5;28;01mraise\u001b[39;00m \u001b[38;5;167;01mValueError\u001b[39;00m(\n\u001b[0;32m    319\u001b[0m         \u001b[38;5;124mf\u001b[39m\u001b[38;5;124m\"\u001b[39m\u001b[38;5;124mIPython won\u001b[39m\u001b[38;5;124m'\u001b[39m\u001b[38;5;124mt let you open fd=\u001b[39m\u001b[38;5;132;01m{\u001b[39;00mfile\u001b[38;5;132;01m}\u001b[39;00m\u001b[38;5;124m by default \u001b[39m\u001b[38;5;124m\"\u001b[39m\n\u001b[0;32m    320\u001b[0m         \u001b[38;5;124m\"\u001b[39m\u001b[38;5;124mas it is likely to crash IPython. If you know what you are doing, \u001b[39m\u001b[38;5;124m\"\u001b[39m\n\u001b[0;32m    321\u001b[0m         \u001b[38;5;124m\"\u001b[39m\u001b[38;5;124myou can use builtins\u001b[39m\u001b[38;5;124m'\u001b[39m\u001b[38;5;124m open.\u001b[39m\u001b[38;5;124m\"\u001b[39m\n\u001b[0;32m    322\u001b[0m     )\n\u001b[1;32m--> 324\u001b[0m \u001b[38;5;28;01mreturn\u001b[39;00m io_open(file, \u001b[38;5;241m*\u001b[39margs, \u001b[38;5;241m*\u001b[39m\u001b[38;5;241m*\u001b[39mkwargs)\n",
      "\u001b[1;31mFileNotFoundError\u001b[0m: [Errno 2] No such file or directory: 'sample.txt'"
     ]
    }
   ],
   "source": [
    "\n"
   ]
  },
  {
   "cell_type": "code",
   "execution_count": null,
   "id": "22f1843b-708a-4e0a-91a0-c16a936ddb20",
   "metadata": {},
   "outputs": [],
   "source": [
    " Copy contents of one file to another."
   ]
  },
  {
   "cell_type": "code",
   "execution_count": null,
   "id": "13a92725-1883-46f2-9cff-2c55efb364a3",
   "metadata": {},
   "outputs": [],
   "source": []
  },
  {
   "cell_type": "code",
   "execution_count": null,
   "id": "022454e1-7c0c-4546-be5b-0ae69454f80f",
   "metadata": {},
   "outputs": [],
   "source": [
    "Print only the lines that have more than 50 characters \n",
    "from a text file."
   ]
  },
  {
   "cell_type": "code",
   "execution_count": null,
   "id": "5cf70d77-52d0-4723-bb54-52eca69e60c8",
   "metadata": {},
   "outputs": [],
   "source": []
  },
  {
   "cell_type": "code",
   "execution_count": null,
   "id": "07088ff4-313e-468e-9015-fc1e41d2af44",
   "metadata": {},
   "outputs": [],
   "source": [
    " Write a program to write a list of strings into a text file (one \n",
    "string per line). \n"
   ]
  },
  {
   "cell_type": "code",
   "execution_count": null,
   "id": "c8570ea2-05a6-4c03-858a-d5e9a912a2e2",
   "metadata": {},
   "outputs": [],
   "source": []
  },
  {
   "cell_type": "code",
   "execution_count": null,
   "id": "3830adab-686d-4f86-b0c2-499e9b0971b6",
   "metadata": {},
   "outputs": [],
   "source": []
  },
  {
   "cell_type": "code",
   "execution_count": null,
   "id": "a48d89e8-a5b9-4281-b75e-7862182b1309",
   "metadata": {},
   "outputs": [],
   "source": []
  },
  {
   "cell_type": "code",
   "execution_count": null,
   "id": "2c6a40ea-4eae-4b32-9dba-6a23ec7727ca",
   "metadata": {},
   "outputs": [],
   "source": []
  },
  {
   "cell_type": "code",
   "execution_count": null,
   "id": "7ae44cf7-386c-45ea-8d2d-f1c24ffe6cdb",
   "metadata": {},
   "outputs": [],
   "source": []
  },
  {
   "cell_type": "code",
   "execution_count": null,
   "id": "ca64cb57-ed42-45e5-ae18-b0ea63810fd8",
   "metadata": {},
   "outputs": [],
   "source": []
  },
  {
   "cell_type": "code",
   "execution_count": null,
   "id": "6464d23b-f0b3-423e-93fb-4826a0a1114f",
   "metadata": {},
   "outputs": [],
   "source": []
  },
  {
   "cell_type": "code",
   "execution_count": null,
   "id": "6c3860a3-bfc9-4def-a158-197fb416ef20",
   "metadata": {},
   "outputs": [],
   "source": []
  },
  {
   "cell_type": "code",
   "execution_count": null,
   "id": "04752874-13b0-4799-ace9-b73245fdb94a",
   "metadata": {},
   "outputs": [],
   "source": []
  },
  {
   "cell_type": "code",
   "execution_count": null,
   "id": "d30ba59d-fd39-4bfa-b58f-9866de48d6de",
   "metadata": {},
   "outputs": [],
   "source": []
  },
  {
   "cell_type": "code",
   "execution_count": null,
   "id": "60e6dfff-21dd-4c52-8b4d-165ec6978f1a",
   "metadata": {},
   "outputs": [],
   "source": []
  },
  {
   "cell_type": "code",
   "execution_count": null,
   "id": "47468961-ce6f-4aeb-966b-522157e0a1e2",
   "metadata": {},
   "outputs": [],
   "source": []
  },
  {
   "cell_type": "code",
   "execution_count": null,
   "id": "d4b8e979-571d-4abc-854b-cdc944656b1f",
   "metadata": {},
   "outputs": [],
   "source": []
  },
  {
   "cell_type": "code",
   "execution_count": null,
   "id": "c3ee5f6e-2c37-4f78-80f8-71c250cc9c44",
   "metadata": {},
   "outputs": [],
   "source": []
  },
  {
   "cell_type": "code",
   "execution_count": null,
   "id": "bf9739a8-f231-484b-a92d-d42ed23b335f",
   "metadata": {},
   "outputs": [],
   "source": []
  },
  {
   "cell_type": "code",
   "execution_count": null,
   "id": "36506c4d-b0d6-4478-8e3b-ae9e2d64b4bd",
   "metadata": {},
   "outputs": [],
   "source": []
  },
  {
   "cell_type": "code",
   "execution_count": null,
   "id": "4b1b869b-5fce-4526-acc0-7448c86a5f2f",
   "metadata": {},
   "outputs": [],
   "source": []
  }
 ],
 "metadata": {
  "kernelspec": {
   "display_name": "Python 3 (ipykernel)",
   "language": "python",
   "name": "python3"
  },
  "language_info": {
   "codemirror_mode": {
    "name": "ipython",
    "version": 3
   },
   "file_extension": ".py",
   "mimetype": "text/x-python",
   "name": "python",
   "nbconvert_exporter": "python",
   "pygments_lexer": "ipython3",
   "version": "3.12.7"
  }
 },
 "nbformat": 4,
 "nbformat_minor": 5
}
